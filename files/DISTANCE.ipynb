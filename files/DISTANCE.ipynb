{
 "cells": [
  {
   "cell_type": "markdown",
   "metadata": {},
   "source": [
    "Let’s compare two different measures of distance in a vector space, and why either has its function under different circumstances. Starting off with quite a straight-forward example, we have our vector space X, that contains instances with animals. They are measured by their length, and weight. They have also been labelled by their stage of aging (young = 0, mid = 1, adult = 2). Here’s some random data:"
   ]
  },
  {
   "cell_type": "code",
   "execution_count": 1,
   "metadata": {},
   "outputs": [],
   "source": [
    "import numpy as np\n",
    "\n",
    "X = np.array([[6.6, 6.2, 1],\n",
    "              [9.7, 9.9, 2],\n",
    "              [8.0, 8.3, 2],\n",
    "              [6.3, 5.4, 1],\n",
    "              [1.3, 2.7, 0],\n",
    "              [2.3, 3.1, 0],\n",
    "              [6.6, 6.0, 1],\n",
    "              [6.5, 6.4, 1],\n",
    "              [6.3, 5.8, 1],\n",
    "              [9.5, 9.9, 2],\n",
    "              [8.9, 8.9, 2],\n",
    "              [8.7, 9.5, 2],\n",
    "              [2.5, 3.8, 0],\n",
    "              [2.0, 3.1, 0],\n",
    "              [1.3, 1.3, 0]])"
   ]
  },
  {
   "cell_type": "code",
   "execution_count": 2,
   "metadata": {},
   "outputs": [
    {
     "data": {
      "text/html": [
       "<div>\n",
       "<style scoped>\n",
       "    .dataframe tbody tr th:only-of-type {\n",
       "        vertical-align: middle;\n",
       "    }\n",
       "\n",
       "    .dataframe tbody tr th {\n",
       "        vertical-align: top;\n",
       "    }\n",
       "\n",
       "    .dataframe thead th {\n",
       "        text-align: right;\n",
       "    }\n",
       "</style>\n",
       "<table border=\"1\" class=\"dataframe\">\n",
       "  <thead>\n",
       "    <tr style=\"text-align: right;\">\n",
       "      <th></th>\n",
       "      <th>weight</th>\n",
       "      <th>length</th>\n",
       "      <th>label</th>\n",
       "    </tr>\n",
       "  </thead>\n",
       "  <tbody>\n",
       "    <tr>\n",
       "      <th>0</th>\n",
       "      <td>6.6</td>\n",
       "      <td>6.2</td>\n",
       "      <td>1.0</td>\n",
       "    </tr>\n",
       "    <tr>\n",
       "      <th>1</th>\n",
       "      <td>9.7</td>\n",
       "      <td>9.9</td>\n",
       "      <td>2.0</td>\n",
       "    </tr>\n",
       "    <tr>\n",
       "      <th>2</th>\n",
       "      <td>8.0</td>\n",
       "      <td>8.3</td>\n",
       "      <td>2.0</td>\n",
       "    </tr>\n",
       "    <tr>\n",
       "      <th>3</th>\n",
       "      <td>6.3</td>\n",
       "      <td>5.4</td>\n",
       "      <td>1.0</td>\n",
       "    </tr>\n",
       "    <tr>\n",
       "      <th>4</th>\n",
       "      <td>1.3</td>\n",
       "      <td>2.7</td>\n",
       "      <td>0.0</td>\n",
       "    </tr>\n",
       "    <tr>\n",
       "      <th>5</th>\n",
       "      <td>2.3</td>\n",
       "      <td>3.1</td>\n",
       "      <td>0.0</td>\n",
       "    </tr>\n",
       "    <tr>\n",
       "      <th>6</th>\n",
       "      <td>6.6</td>\n",
       "      <td>6.0</td>\n",
       "      <td>1.0</td>\n",
       "    </tr>\n",
       "    <tr>\n",
       "      <th>7</th>\n",
       "      <td>6.5</td>\n",
       "      <td>6.4</td>\n",
       "      <td>1.0</td>\n",
       "    </tr>\n",
       "    <tr>\n",
       "      <th>8</th>\n",
       "      <td>6.3</td>\n",
       "      <td>5.8</td>\n",
       "      <td>1.0</td>\n",
       "    </tr>\n",
       "    <tr>\n",
       "      <th>9</th>\n",
       "      <td>9.5</td>\n",
       "      <td>9.9</td>\n",
       "      <td>2.0</td>\n",
       "    </tr>\n",
       "    <tr>\n",
       "      <th>10</th>\n",
       "      <td>8.9</td>\n",
       "      <td>8.9</td>\n",
       "      <td>2.0</td>\n",
       "    </tr>\n",
       "    <tr>\n",
       "      <th>11</th>\n",
       "      <td>8.7</td>\n",
       "      <td>9.5</td>\n",
       "      <td>2.0</td>\n",
       "    </tr>\n",
       "    <tr>\n",
       "      <th>12</th>\n",
       "      <td>2.5</td>\n",
       "      <td>3.8</td>\n",
       "      <td>0.0</td>\n",
       "    </tr>\n",
       "    <tr>\n",
       "      <th>13</th>\n",
       "      <td>2.0</td>\n",
       "      <td>3.1</td>\n",
       "      <td>0.0</td>\n",
       "    </tr>\n",
       "    <tr>\n",
       "      <th>14</th>\n",
       "      <td>1.3</td>\n",
       "      <td>1.3</td>\n",
       "      <td>0.0</td>\n",
       "    </tr>\n",
       "  </tbody>\n",
       "</table>\n",
       "</div>"
      ],
      "text/plain": [
       "    weight  length  label\n",
       "0      6.6     6.2    1.0\n",
       "1      9.7     9.9    2.0\n",
       "2      8.0     8.3    2.0\n",
       "3      6.3     5.4    1.0\n",
       "4      1.3     2.7    0.0\n",
       "5      2.3     3.1    0.0\n",
       "6      6.6     6.0    1.0\n",
       "7      6.5     6.4    1.0\n",
       "8      6.3     5.8    1.0\n",
       "9      9.5     9.9    2.0\n",
       "10     8.9     8.9    2.0\n",
       "11     8.7     9.5    2.0\n",
       "12     2.5     3.8    0.0\n",
       "13     2.0     3.1    0.0\n",
       "14     1.3     1.3    0.0"
      ]
     },
     "execution_count": 2,
     "metadata": {},
     "output_type": "execute_result"
    }
   ],
   "source": [
    "import pandas as pd\n",
    "\n",
    "df = pd.DataFrame(X, columns=['weight', 'length', 'label'])\n",
    "df"
   ]
  },
  {
   "cell_type": "markdown",
   "metadata": {},
   "source": [
    "Now the data can be plotted to visualize the three different groups. They are subsetted by their label, ### assigned a different colour and label, and by repeating this they form different layers in the scatter plot."
   ]
  },
  {
   "cell_type": "code",
   "execution_count": 3,
   "metadata": {},
   "outputs": [
    {
     "data": {
      "text/plain": [
       "<matplotlib.axes._subplots.AxesSubplot at 0x7f2327fcd828>"
      ]
     },
     "execution_count": 3,
     "metadata": {},
     "output_type": "execute_result"
    },
    {
     "data": {
      "image/png": "[encoded data removed]",
      "text/plain": [
       "<Figure size 432x288 with 1 Axes>"
      ]
     },
     "metadata": {
      "needs_background": "light"
     },
     "output_type": "display_data"
    }
   ],
   "source": [
    "%matplotlib inline\n",
    "\n",
    "ax = df[df['label'] == 0].plot.scatter(x='weight', y='length', c='blue', label='young')\n",
    "ax = df[df['label'] == 1].plot.scatter(x='weight', y='length', c='orange', label='mid', ax=ax)\n",
    "ax = df[df['label'] == 2].plot.scatter(x='weight', y='length', c='red', label='adult', ax=ax)\n",
    "ax"
   ]
  },
  {
   "cell_type": "markdown",
   "metadata": {},
   "source": [
    "Looking at the plot above, we can see that the three classes are pretty well distinguishable by these two features that we have. Say that we apply k-NN to our data that will learn to classify new instances based on their distance to our known instances (and their labels). The algorithm needs a distance metric to determine which of the known instances are closest to the new one. Let’s try to choose between either euclidean or cosine for this example."
   ]
  },
  {
   "cell_type": "markdown",
   "metadata": {},
   "source": [
    "Picking our Metric\n",
    "Considering instance 0, 1, and 4 to be our known instances, we assume that we don’t know the label of 14.\n",
    "Plotting this will look as follows:"
   ]
  },
  {
   "cell_type": "code",
   "execution_count": 4,
   "metadata": {},
   "outputs": [
    {
     "data": {
      "text/plain": [
       "<matplotlib.axes._subplots.AxesSubplot at 0x7f2327723eb8>"
      ]
     },
     "execution_count": 4,
     "metadata": {},
     "output_type": "execute_result"
    },
    {
     "data": {
      "image/png": "[encoded data removed]",
      "text/plain": [
       "<Figure size 432x288 with 1 Axes>"
      ]
     },
     "metadata": {
      "needs_background": "light"
     },
     "output_type": "display_data"
    }
   ],
   "source": [
    "df2 = pd.DataFrame([df.iloc[0], df.iloc[1], df.iloc[4]], columns=['weight', 'length', 'label'])\n",
    "df3 = pd.DataFrame([df.iloc[14]], columns=['weight', 'length', 'label'])\n",
    "\n",
    "ax = df2[df2['label'] == 0].plot.scatter(x='weight', y='length', c='blue', label='young')\n",
    "ax = df2[df2['label'] == 1].plot.scatter(x='weight', y='length', c='orange', label='mid', ax=ax)\n",
    "ax = df2[df2['label'] == 2].plot.scatter(x='weight', y='length', c='red', label='adult', ax=ax)\n",
    "ax = df3.plot.scatter(x='weight', y='length', c='gray', label='?', ax=ax)\n",
    "ax"
   ]
  },
  {
   "cell_type": "markdown",
   "metadata": {},
   "source": [
    "### Euclidean\n",
    "\n",
    "##### Our euclidean distance function can be defined as follows:\n",
    "    \n",
    "![](https://github.com/rakash/images/blob/master/euc.png?raw=true)    \n",
    "\n",
    "Where x and y are two vectors"
   ]
  },
  {
   "cell_type": "code",
   "execution_count": 13,
   "metadata": {},
   "outputs": [],
   "source": [
    "def euclidean_distance(x, y):   \n",
    "    return np.sqrt(np.sum((x - y) ** 2))"
   ]
  },
  {
   "cell_type": "code",
   "execution_count": 5,
   "metadata": {},
   "outputs": [
    {
     "name": "stdout",
     "output_type": "stream",
     "text": [
      " x0: [6.6 6.2] \n",
      " x1: [9.7 9.9] \n",
      " x4: [1.3 2.7] \n",
      "x14: [1.3 1.3]\n"
     ]
    }
   ],
   "source": [
    "### Lets see this for all our vectors:\n",
    "\n",
    "x0 = X[0][:-1]\n",
    "x1 = X[1][:-1]\n",
    "x4 = X[4][:-1]\n",
    "x14 = X[14][:-1]\n",
    "print(\" x0:\", x0, \"\\n x1:\", x1, \"\\n x4:\", x4, \"\\nx14:\", x14)"
   ]
  },
  {
   "cell_type": "code",
   "execution_count": 14,
   "metadata": {},
   "outputs": [
    {
     "name": "stdout",
     "output_type": "stream",
     "text": [
      " x14 and x0: 7.218032973047436 \n",
      " x14 and x1: 12.021647141718974 \n",
      " x14 and x4: 1.4000000000000001\n"
     ]
    }
   ],
   "source": [
    "# Doing the calculations:\n",
    "\n",
    "print(\" x14 and x0:\", euclidean_distance(x14, x0), \"\\n\",\n",
    "      \"x14 and x1:\", euclidean_distance(x14, x1), \"\\n\",\n",
    "      \"x14 and x4:\", euclidean_distance(x14, x4))"
   ]
  },
  {
   "cell_type": "code",
   "execution_count": 16,
   "metadata": {},
   "outputs": [
    {
     "data": {
      "text/plain": [
       "array([1.3, 2.7, 0. ])"
      ]
     },
     "execution_count": 16,
     "metadata": {},
     "output_type": "execute_result"
    }
   ],
   "source": [
    "# According to euclidean distance, instance 14 is closest to 4. Our 4th instance had the label:\n",
    "    \n",
    "X[4]"
   ]
  },
  {
   "cell_type": "code",
   "execution_count": null,
   "metadata": {},
   "outputs": [],
   "source": [
    "0 = young, which is what we would visually also deem the correct label for this instance.\n",
    "\n",
    "Now let’s see what happens when we use Cosine similarity."
   ]
  },
  {
   "cell_type": "markdown",
   "metadata": {},
   "source": [
    "### Cosine\n",
    "\n",
    "##### Our cosine similarity function can be defined as follows:\n",
    "\n",
    "\n",
    "![](https://github.com/rakash/images/blob/master/cos.png?raw=true)\n",
    "\n",
    "Where x and y are two vectors. Or:"
   ]
  },
  {
   "cell_type": "code",
   "execution_count": 17,
   "metadata": {},
   "outputs": [],
   "source": [
    "def cosine_similarity(x, y):\n",
    "    return np.dot(x, y) / (np.sqrt(np.dot(x, x)) * np.sqrt(np.dot(y, y)))"
   ]
  },
  {
   "cell_type": "code",
   "execution_count": 18,
   "metadata": {},
   "outputs": [
    {
     "name": "stdout",
     "output_type": "stream",
     "text": [
      " x14 and x0: 0.9995120760870786 \n",
      " x14 and x1: 0.9999479424242859 \n",
      " x14 and x4: 0.9438583563660174\n"
     ]
    }
   ],
   "source": [
    "print(\" x14 and x0:\", cosine_similarity(x14, x0), \"\\n\",\n",
    "      \"x14 and x1:\", cosine_similarity(x14, x1), \"\\n\",\n",
    "      \"x14 and x4:\", cosine_similarity(x14, x4))"
   ]
  },
  {
   "cell_type": "code",
   "execution_count": 19,
   "metadata": {},
   "outputs": [
    {
     "data": {
      "text/plain": [
       "array([9.7, 9.9, 2. ])"
      ]
     },
     "execution_count": 19,
     "metadata": {},
     "output_type": "execute_result"
    }
   ],
   "source": [
    "# According to cosine similarity, instance 14 is closest to 1. However, our 1st instance had the label:\n",
    "\n",
    "X[1]"
   ]
  },
  {
   "cell_type": "code",
   "execution_count": null,
   "metadata": {},
   "outputs": [],
   "source": [
    "2 = adult, which is definitely NOT what we would deem the correct label!"
   ]
  },
  {
   "cell_type": "markdown",
   "metadata": {},
   "source": [
    "## So What Happened?\n",
    "\n",
    "\n",
    "Consider the Picture below:\n",
    "\n",
    "\n",
    "![](https://github.com/rakash/images/blob/master/graph.png?raw=true)"
   ]
  },
  {
   "cell_type": "markdown",
   "metadata": {},
   "source": [
    "This is a visual representation of euclidean distance (d) and cosine similarity (θ). While cosine looks at the angle between vectors (thus not taking into regard their weight or magnitude), euclidean distance is similar to using a ruler to actually measure the distance. In our example the angle between x14 and x4 was larger than those of the other vectors, even though they were further away."
   ]
  },
  {
   "cell_type": "markdown",
   "metadata": {},
   "source": [
    "#### When to Use Cosine?\n",
    "\n",
    "\n",
    "Cosine similarity is generally used as a metric for measuring distance when the magnitude of the vectors does not matter. This happens for example when working with text data represented by word counts. We could assume that when a word (e.g. science) occurs more frequent in document 1 than it does in document 2, that document 1 is more related to the topic of science. However, it could also be the case that we are working with documents of uneven lengths (Wikipedia articles for example). Then, science probably occurred more in document 1 just because it was way longer than document 2. Cosine similarity corrects for this.\n",
    "\n",
    "Text data is the most typical example for when to use this metric. However, you might also want to apply cosine similarity for other cases where some properties of the instances make so that the weights might be larger without meaning anything different. Sensor values that were captured in various lengths (in time) between instances could be such an example."
   ]
  },
  {
   "cell_type": "markdown",
   "metadata": {},
   "source": [
    "### How do Euclidean Distance and Cosine Similarity Relate?\n",
    "\n",
    "Let’s consider two of our vectors, their euclidean distance, as well as their cosine similarity."
   ]
  },
  {
   "cell_type": "code",
   "execution_count": 20,
   "metadata": {},
   "outputs": [
    {
     "name": "stdout",
     "output_type": "stream",
     "text": [
      "vectors \t [6.6 6.2] [9.7 9.9] \n",
      "euclidean \t 4.827007354458868 \n",
      "cosine \t\t 0.9991413385403556\n"
     ]
    }
   ],
   "source": [
    "print(\"vectors \\t\", x0, x1, \"\\n\"\n",
    "      \"euclidean \\t\", euclidean_distance(x0, x1), \"\\n\"\n",
    "      \"cosine \\t\\t\", cosine_similarity(x0, x1))"
   ]
  },
  {
   "cell_type": "markdown",
   "metadata": {},
   "source": [
    "Cosine similarity takes a unit length vector to calculate dot products. However, what happens if we do the same for the vectors we’re calculating the euclidian distance for (i.e. normalize them)? For this, we can for example use the L1 norm:"
   ]
  },
  {
   "cell_type": "code",
   "execution_count": 21,
   "metadata": {},
   "outputs": [],
   "source": [
    "def l1_normalize(v):\n",
    "    norm = np.sum(v)\n",
    "    return v / norm\n",
    "\n",
    "def l2_normalize(v):\n",
    "    norm = np.sqrt(np.sum(np.square(v)))\n",
    "    return v / norm"
   ]
  },
  {
   "cell_type": "code",
   "execution_count": 23,
   "metadata": {},
   "outputs": [
    {
     "name": "stdout",
     "output_type": "stream",
     "text": [
      "[0.515625 0.484375] [0.49489796 0.50510204]\n"
     ]
    }
   ],
   "source": [
    "# We divide the values of our vector by these norms to get a normalized vector.\n",
    "\n",
    "# Applying the L1 norm to our vectors will make them sum up to 1 respectively, as such:\n",
    "\n",
    "x0_n = l1_normalize(x0)\n",
    "x1_n = l1_normalize(x1)\n",
    "print(x0_n, x1_n)"
   ]
  },
  {
   "cell_type": "code",
   "execution_count": 24,
   "metadata": {},
   "outputs": [
    {
     "name": "stdout",
     "output_type": "stream",
     "text": [
      "vectors \t [0.515625 0.484375] [0.49489796 0.50510204] \n",
      "euclidean \t 0.029312462230309616 \n",
      "cosine \t\t 0.9991413385403558\n"
     ]
    }
   ],
   "source": [
    "# Let’s compare the result we had before against these normalized vectors:\n",
    "\n",
    "print(\"vectors \\t\", x0_n, x1_n, \"\\n\"\n",
    "      \"euclidean \\t\", euclidean_distance(x0_n, x1_n), \"\\n\"\n",
    "      \"cosine \\t\\t\", cosine_similarity(x0_n, x1_n))"
   ]
  },
  {
   "cell_type": "markdown",
   "metadata": {},
   "source": [
    "As we can see, before, the distance was pretty big, but the cosine similarity very high.\n",
    "Now that we normalized our vectors, it turns out that the distance is now very small. \n",
    "The same pattern occurs when we compare it against vector 4. \n",
    "\n",
    "Unnormalized:"
   ]
  },
  {
   "cell_type": "code",
   "execution_count": 25,
   "metadata": {},
   "outputs": [
    {
     "name": "stdout",
     "output_type": "stream",
     "text": [
      "vectors \t [6.6 6.2] [1.3 2.7] \n",
      "euclidean \t 6.351377803280167 \n",
      "cosine \t\t 0.9330794115892785\n"
     ]
    }
   ],
   "source": [
    "print(\"vectors \\t\", x0, x4, \"\\n\"\n",
    "      \"euclidean \\t\", euclidean_distance(x0, x4), \"\\n\"\n",
    "      \"cosine \\t\\t\", cosine_similarity(x0, x4))"
   ]
  },
  {
   "cell_type": "code",
   "execution_count": 27,
   "metadata": {},
   "outputs": [
    {
     "name": "stdout",
     "output_type": "stream",
     "text": [
      "vectors \t [0.515625 0.484375] [0.325 0.675] \n",
      "euclidean \t 0.26958446032737116 \n",
      "cosine \t\t 0.9330794115892785\n"
     ]
    }
   ],
   "source": [
    "# Normalized:\n",
    "\n",
    "x4_n = l1_normalize(x4)\n",
    "\n",
    "print(\"vectors \\t\", x0_n, x4_n, \"\\n\"\n",
    "      \"euclidean \\t\", euclidean_distance(x0_n, x4_n), \"\\n\"\n",
    "      \"cosine \\t\\t\", cosine_similarity(x0_n, x4_n))"
   ]
  },
  {
   "cell_type": "markdown",
   "metadata": {},
   "source": [
    "Notice that because the cosine similarity is a bit lower between x0 and x4 than it was for x0 and x1, the euclidean distance is now also a bit larger. To take this point home, let’s construct a vector that is almost evenly distant in our euclidean space, but where the cosine similarity is much lower (because the angle is larger):"
   ]
  },
  {
   "cell_type": "code",
   "execution_count": 28,
   "metadata": {},
   "outputs": [
    {
     "name": "stdout",
     "output_type": "stream",
     "text": [
      "vectors \t [6.6 6.2] [0.1 6. ] \n",
      "euclidean \t 6.503076195155644 \n",
      "cosine \t\t 0.696726168727881\n"
     ]
    }
   ],
   "source": [
    "x00 = np.array([0.1, 6])\n",
    "\n",
    "print(\"vectors \\t\", x0, x00, \"\\n\"\n",
    "      \"euclidean \\t\", euclidean_distance(x0, x00), \"\\n\"\n",
    "      \"cosine \\t\\t\", cosine_similarity(x0, x00))\n"
   ]
  },
  {
   "cell_type": "code",
   "execution_count": 29,
   "metadata": {},
   "outputs": [
    {
     "name": "stdout",
     "output_type": "stream",
     "text": [
      "vectors \t [0.515625 0.484375] [0.01639344 0.98360656] \n",
      "euclidean \t 0.7060200392072649 \n",
      "cosine \t\t 0.6967261687278811\n"
     ]
    }
   ],
   "source": [
    "# If we normalize this, we should see the same behaviour from our euclidean distance (i.e. it should be larger than for x0 and x4). As follows:\n",
    "\n",
    "x00_n = l1_normalize(x00)\n",
    "\n",
    "print(\"vectors \\t\", x0_n, x00_n, \"\\n\"\n",
    "      \"euclidean \\t\", euclidean_distance(x0_n, x00_n), \"\\n\"\n",
    "      \"cosine \\t\\t\", cosine_similarity(x0_n, x00_n))"
   ]
  },
  {
   "cell_type": "code",
   "execution_count": 32,
   "metadata": {},
   "outputs": [],
   "source": [
    "### Cosine in Action\n",
    "\n",
    "##So when is cosine handy? Let’s consider four articles from Wikipedia. We use the Wikipedia API to extract them, after which we can access their text with the .content method.\n",
    "\n",
    "import wikipedia\n",
    "\n",
    "q1 = wikipedia.page('Machine Learning')\n",
    "q2 = wikipedia.page('Artifical Intelligence')\n",
    "q3 = wikipedia.page('Soccer')\n",
    "q4 = wikipedia.page('Tennis')"
   ]
  },
  {
   "cell_type": "markdown",
   "metadata": {},
   "source": [
    "We represent these by their frequency vectors. Each instance is a document, and each word will be a feature. The feature values will then represent how many times a word occurs in a certain document. So the feature ball, will probably be 0 for both machine learning and AI, but definitely not 0 for soccer and tennis. For this example I’ll use sklearn:"
   ]
  },
  {
   "cell_type": "code",
   "execution_count": 33,
   "metadata": {},
   "outputs": [],
   "source": [
    "from sklearn.feature_extraction.text import CountVectorizer\n",
    "\n",
    "cv = CountVectorizer()\n",
    "X = np.array(cv.fit_transform([q1.content, q2.content, q3.content, q4.content]).todense())"
   ]
  },
  {
   "cell_type": "markdown",
   "metadata": {},
   "source": [
    "The CountVectorizer by default splits up the text into words using white spaces. We can do the same to see how many words are in each article. Like this:"
   ]
  },
  {
   "cell_type": "code",
   "execution_count": 34,
   "metadata": {},
   "outputs": [
    {
     "name": "stdout",
     "output_type": "stream",
     "text": [
      "ML \t 6275 \n",
      "AI \t 15138 \n",
      "soccer \t 6839 \n",
      "tennis \t 11096\n"
     ]
    }
   ],
   "source": [
    "print(\"ML \\t\", len(q1.content.split()), \"\\n\"\n",
    "      \"AI \\t\", len(q2.content.split()), \"\\n\"\n",
    "      \"soccer \\t\", len(q3.content.split()), \"\\n\"\n",
    "      \"tennis \\t\", len(q4.content.split()))"
   ]
  },
  {
   "cell_type": "markdown",
   "metadata": {},
   "source": [
    "AI is a much larger article than Machine Learning (ML). This would mean that if we do not normalize our vectors, AI will be much further away from ML just because it has many more words. ML will probably be closer to an article with less words. Let’s try it out:"
   ]
  },
  {
   "cell_type": "code",
   "execution_count": 35,
   "metadata": {},
   "outputs": [
    {
     "name": "stdout",
     "output_type": "stream",
     "text": [
      "ML - AI \t 832.8229103476921 \n",
      "ML - soccer \t 466.1909480030688 \n",
      "ML - tennis \t 808.588894309092\n"
     ]
    }
   ],
   "source": [
    "print(\"ML - AI \\t\", euclidean_distance(X[0], X[1]), \"\\n\"\n",
    "      \"ML - soccer \\t\", euclidean_distance(X[0], X[2]), \"\\n\"\n",
    "      \"ML - tennis \\t\", euclidean_distance(X[0], X[3]))"
   ]
  },
  {
   "cell_type": "markdown",
   "metadata": {},
   "source": [
    "Here we can see pretty clearly that our prior assumptions have been confirmed. ML seems to be closest to soccer, which doesn’t make a lot of sense intuitively. So, what happens if we look at cosine similairty (thus normalising our vectors)?"
   ]
  },
  {
   "cell_type": "code",
   "execution_count": 36,
   "metadata": {},
   "outputs": [
    {
     "name": "stdout",
     "output_type": "stream",
     "text": [
      "ML - AI \t 0.8979864796829826 \n",
      "ML - soccer \t 0.7932601678625442 \n",
      "ML - tennis \t 0.806543375496949\n"
     ]
    }
   ],
   "source": [
    "print(\"ML - AI \\t\", cosine_similarity(X[0], X[1]), \"\\n\"\n",
    "      \"ML - soccer \\t\", cosine_similarity(X[0], X[2]), \"\\n\"\n",
    "      \"ML - tennis \\t\", cosine_similarity(X[0], X[3]))"
   ]
  },
  {
   "cell_type": "markdown",
   "metadata": {},
   "source": [
    "ML is closer to AI! Granted, it still seems pretty close to soccer an tennis judging from these scores, but please note that word frequency is not that great of a representation for texts with such rich content."
   ]
  },
  {
   "cell_type": "code",
   "execution_count": 37,
   "metadata": {},
   "outputs": [],
   "source": [
    "# Categorize a Tweet\n",
    "# Now, just for fun, let’s see how this plays out for the following tweet by OpenAI:\n",
    "\n",
    "ml_tweet = \"New research release: overcoming many of Reinforcement Learning's limitations with Evolution Strategies.\"\n",
    "x = np.array(cv.transform([ml_tweet]).todense())[0]"
   ]
  },
  {
   "cell_type": "code",
   "execution_count": 38,
   "metadata": {},
   "outputs": [
    {
     "name": "stdout",
     "output_type": "stream",
     "text": [
      "tweet - ML \t 568.9226660979505 \n",
      "tweet - AI \t 1305.1923229930521 \n",
      "tweet - soccer \t 763.2909012951746 \n",
      "tweet - tennis \t 1194.18130951711\n"
     ]
    }
   ],
   "source": [
    "# Again we represent this tweet as a word vector, and we try to measure the distance between the tweet and our four wikipedia documents:\n",
    "\n",
    "print(\"tweet - ML \\t\", euclidean_distance(x[0], X[0]), \"\\n\"\n",
    "      \"tweet - AI \\t\", euclidean_distance(x[0], X[1]), \"\\n\"\n",
    "      \"tweet - soccer \\t\", euclidean_distance(x[0], X[2]), \"\\n\"\n",
    "      \"tweet - tennis \\t\", euclidean_distance(x[0], X[3]))"
   ]
  },
  {
   "cell_type": "markdown",
   "metadata": {},
   "source": [
    "Well, that worked out pretty well at first glance, it’s closest to ML. However, see how it’s also closer to soccer than AI? There’s so many dimensions that come into play here that it’s hard to say why this is the case. However, soccer being our second smallest document might have something to do with it. Now we’ll do the same for cosine:"
   ]
  },
  {
   "cell_type": "code",
   "execution_count": 39,
   "metadata": {},
   "outputs": [
    {
     "name": "stdout",
     "output_type": "stream",
     "text": [
      "tweet - ML \t 0.2473470723932541 \n",
      "tweet - AI \t 0.19261611454078742 \n",
      "tweet - soccer \t 0.11807413551225644 \n",
      "tweet - tennis \t 0.11413188773518007\n"
     ]
    }
   ],
   "source": [
    "print(\"tweet - ML \\t\", cosine_similarity(x, X[0]), \"\\n\"\n",
    "      \"tweet - AI \\t\", cosine_similarity(x, X[1]), \"\\n\"\n",
    "      \"tweet - soccer \\t\", cosine_similarity(x, X[2]), \"\\n\"\n",
    "      \"tweet - tennis \\t\", cosine_similarity(x, X[3]))"
   ]
  },
  {
   "cell_type": "markdown",
   "metadata": {},
   "source": [
    "There we go! This seems definitely more in line with our intuitions. So, remember how euclidean distance in this example seemed to slightly relate to the length of the document? Let’s try the same for a soccer tweet, by Manchester United:"
   ]
  },
  {
   "cell_type": "code",
   "execution_count": 40,
   "metadata": {},
   "outputs": [],
   "source": [
    "so_tweet = \"#LegendsDownUnder The Reds are out for the warm up at the @nibStadium. Not long now until kick-off in Perth.\"\n",
    "x2 = np.array(cv.transform([so_tweet]).todense())[0]\n",
    "\n",
    "\n",
    "#Same trick, different tweet:"
   ]
  },
  {
   "cell_type": "code",
   "execution_count": 41,
   "metadata": {},
   "outputs": [
    {
     "name": "stdout",
     "output_type": "stream",
     "text": [
      "tweet - ML \t 566.82184149872 \n",
      "tweet - AI \t 1303.0260933688166 \n",
      "tweet - soccer \t 760.4110730387873 \n",
      "tweet - tennis \t 1191.3861674536934\n"
     ]
    }
   ],
   "source": [
    "print(\"tweet - ML \\t\", euclidean_distance(x2, X[0]), \"\\n\"\n",
    "      \"tweet - AI \\t\", euclidean_distance(x2, X[1]), \"\\n\"\n",
    "      \"tweet - soccer \\t\", euclidean_distance(x2, X[2]), \"\\n\"\n",
    "      \"tweet - tennis \\t\", euclidean_distance(x2, X[3]))"
   ]
  },
  {
   "cell_type": "markdown",
   "metadata": {},
   "source": [
    "See how awfully similar these distances are to that of our previous tweet, even though there’s very little overlap? Now let’s try the same with cosine similarity:"
   ]
  },
  {
   "cell_type": "code",
   "execution_count": 42,
   "metadata": {},
   "outputs": [
    {
     "name": "stdout",
     "output_type": "stream",
     "text": [
      "tweet - ML \t 0.4511925394935143 \n",
      "tweet - AI \t 0.4632552773509761 \n",
      "tweet - soccer \t 0.6158956942450493 \n",
      "tweet - tennis \t 0.5971927298861303\n"
     ]
    }
   ],
   "source": [
    "print(\"tweet - ML \\t\", cosine_similarity(x2, X[0]), \"\\n\"\n",
    "      \"tweet - AI \\t\", cosine_similarity(x2, X[1]), \"\\n\"\n",
    "      \"tweet - soccer \\t\", cosine_similarity(x2, X[2]), \"\\n\"\n",
    "      \"tweet - tennis \\t\", cosine_similarity(x2, X[3]))"
   ]
  },
  {
   "cell_type": "markdown",
   "metadata": {},
   "source": [
    "Nailed it!\n",
    "\n",
    "Hopefully this, by example, proves why for text data normalizing your vectors can make all the difference!"
   ]
  }
 ],
 "metadata": {
  "kernelspec": {
   "display_name": "Python 3",
   "language": "python",
   "name": "python3"
  },
  "language_info": {
   "codemirror_mode": {
    "name": "ipython",
    "version": 3
   },
   "file_extension": ".py",
   "mimetype": "text/x-python",
   "name": "python",
   "nbconvert_exporter": "python",
   "pygments_lexer": "ipython3",
   "version": "3.7.3"
  }
 },
 "nbformat": 4,
 "nbformat_minor": 2
}
